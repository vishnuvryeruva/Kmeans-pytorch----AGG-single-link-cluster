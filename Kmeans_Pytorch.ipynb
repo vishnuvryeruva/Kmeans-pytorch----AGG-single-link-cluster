{
  "cells": [
    {
      "cell_type": "markdown",
      "metadata": {
        "id": "view-in-github",
        "colab_type": "text"
      },
      "source": [
        "<a href=\"https://colab.research.google.com/github/vishnuvryeruva/Kmeans-pytorch----AGG-single-link-cluster/blob/main/Kmeans_Pytorch.ipynb\" target=\"_parent\"><img src=\"https://colab.research.google.com/assets/colab-badge.svg\" alt=\"Open In Colab\"/></a>"
      ]
    },
    {
      "cell_type": "markdown",
      "source": [
        "**K MEANS**"
      ],
      "metadata": {
        "id": "D0pi6ckH-120"
      }
    },
    {
      "cell_type": "code",
      "execution_count": 1,
      "metadata": {
        "id": "JBDRe92q5WV0",
        "colab": {
          "base_uri": "https://localhost:8080/"
        },
        "outputId": "2e2fa1f8-8195-471d-ea01-611911bcdc1b"
      },
      "outputs": [
        {
          "output_type": "execute_result",
          "data": {
            "text/plain": [
              "['Requirement already satisfied: kmeans_pytorch in /usr/local/lib/python3.7/dist-packages (0.3)']"
            ]
          },
          "metadata": {},
          "execution_count": 1
        }
      ],
      "source": [
        "!!pip install kmeans_pytorch"
      ]
    },
    {
      "cell_type": "code",
      "execution_count": 2,
      "metadata": {
        "id": "QEW_yPxH6NC8"
      },
      "outputs": [],
      "source": [
        "import torch\n",
        "import numpy as np\n",
        "from kmeans_pytorch import kmeans_predict, kmeans as kms\n",
        "import matplotlib.pyplot as plt\n",
        "import pandas as pd\n",
        "import seaborn as sns"
      ]
    },
    {
      "cell_type": "code",
      "execution_count": 3,
      "metadata": {
        "id": "TGJ06Y3g7-aJ",
        "colab": {
          "base_uri": "https://localhost:8080/",
          "height": 289
        },
        "outputId": "a9f48192-8da6-4ff7-bcdf-616946e35827"
      },
      "outputs": [
        {
          "output_type": "stream",
          "name": "stdout",
          "text": [
            "Number of participants:  1015341\n"
          ]
        },
        {
          "output_type": "execute_result",
          "data": {
            "text/html": [
              "\n",
              "  <div id=\"df-29008471-3c0e-4eb4-888a-9ef405951930\">\n",
              "    <div class=\"colab-df-container\">\n",
              "      <div>\n",
              "<style scoped>\n",
              "    .dataframe tbody tr th:only-of-type {\n",
              "        vertical-align: middle;\n",
              "    }\n",
              "\n",
              "    .dataframe tbody tr th {\n",
              "        vertical-align: top;\n",
              "    }\n",
              "\n",
              "    .dataframe thead th {\n",
              "        text-align: right;\n",
              "    }\n",
              "</style>\n",
              "<table border=\"1\" class=\"dataframe\">\n",
              "  <thead>\n",
              "    <tr style=\"text-align: right;\">\n",
              "      <th></th>\n",
              "      <th>EXT1</th>\n",
              "      <th>EXT2</th>\n",
              "      <th>EXT3</th>\n",
              "      <th>EXT4</th>\n",
              "      <th>EXT5</th>\n",
              "      <th>EXT6</th>\n",
              "      <th>EXT7</th>\n",
              "      <th>EXT8</th>\n",
              "      <th>EXT9</th>\n",
              "      <th>EXT10</th>\n",
              "      <th>EST1</th>\n",
              "      <th>EST2</th>\n",
              "      <th>EST3</th>\n",
              "      <th>EST4</th>\n",
              "      <th>EST5</th>\n",
              "      <th>EST6</th>\n",
              "      <th>EST7</th>\n",
              "      <th>EST8</th>\n",
              "      <th>EST9</th>\n",
              "      <th>EST10</th>\n",
              "      <th>AGR1</th>\n",
              "      <th>AGR2</th>\n",
              "      <th>AGR3</th>\n",
              "      <th>AGR4</th>\n",
              "      <th>AGR5</th>\n",
              "      <th>AGR6</th>\n",
              "      <th>AGR7</th>\n",
              "      <th>AGR8</th>\n",
              "      <th>AGR9</th>\n",
              "      <th>AGR10</th>\n",
              "      <th>CSN1</th>\n",
              "      <th>CSN2</th>\n",
              "      <th>CSN3</th>\n",
              "      <th>CSN4</th>\n",
              "      <th>CSN5</th>\n",
              "      <th>CSN6</th>\n",
              "      <th>CSN7</th>\n",
              "      <th>CSN8</th>\n",
              "      <th>CSN9</th>\n",
              "      <th>CSN10</th>\n",
              "      <th>OPN1</th>\n",
              "      <th>OPN2</th>\n",
              "      <th>OPN3</th>\n",
              "      <th>OPN4</th>\n",
              "      <th>OPN5</th>\n",
              "      <th>OPN6</th>\n",
              "      <th>OPN7</th>\n",
              "      <th>OPN8</th>\n",
              "      <th>OPN9</th>\n",
              "      <th>OPN10</th>\n",
              "      <th>country</th>\n",
              "    </tr>\n",
              "  </thead>\n",
              "  <tbody>\n",
              "    <tr>\n",
              "      <th>0</th>\n",
              "      <td>4.0</td>\n",
              "      <td>1.0</td>\n",
              "      <td>5.0</td>\n",
              "      <td>2.0</td>\n",
              "      <td>5.0</td>\n",
              "      <td>1.0</td>\n",
              "      <td>5.0</td>\n",
              "      <td>2.0</td>\n",
              "      <td>4.0</td>\n",
              "      <td>1.0</td>\n",
              "      <td>1.0</td>\n",
              "      <td>4.0</td>\n",
              "      <td>4.0</td>\n",
              "      <td>2.0</td>\n",
              "      <td>2.0</td>\n",
              "      <td>2.0</td>\n",
              "      <td>2.0</td>\n",
              "      <td>2.0</td>\n",
              "      <td>3.0</td>\n",
              "      <td>2.0</td>\n",
              "      <td>2.0</td>\n",
              "      <td>5.0</td>\n",
              "      <td>2.0</td>\n",
              "      <td>4.0</td>\n",
              "      <td>2.0</td>\n",
              "      <td>3.0</td>\n",
              "      <td>2.0</td>\n",
              "      <td>4.0</td>\n",
              "      <td>3.0</td>\n",
              "      <td>4.0</td>\n",
              "      <td>3.0</td>\n",
              "      <td>4.0</td>\n",
              "      <td>3.0</td>\n",
              "      <td>2.0</td>\n",
              "      <td>2.0</td>\n",
              "      <td>4.0</td>\n",
              "      <td>4.0</td>\n",
              "      <td>2.0</td>\n",
              "      <td>4.0</td>\n",
              "      <td>4.0</td>\n",
              "      <td>5.0</td>\n",
              "      <td>1.0</td>\n",
              "      <td>4.0</td>\n",
              "      <td>1.0</td>\n",
              "      <td>4.0</td>\n",
              "      <td>1.0</td>\n",
              "      <td>5.0</td>\n",
              "      <td>3.0</td>\n",
              "      <td>4.0</td>\n",
              "      <td>5.0</td>\n",
              "      <td>GB</td>\n",
              "    </tr>\n",
              "    <tr>\n",
              "      <th>1</th>\n",
              "      <td>3.0</td>\n",
              "      <td>5.0</td>\n",
              "      <td>3.0</td>\n",
              "      <td>4.0</td>\n",
              "      <td>3.0</td>\n",
              "      <td>3.0</td>\n",
              "      <td>2.0</td>\n",
              "      <td>5.0</td>\n",
              "      <td>1.0</td>\n",
              "      <td>5.0</td>\n",
              "      <td>2.0</td>\n",
              "      <td>3.0</td>\n",
              "      <td>4.0</td>\n",
              "      <td>1.0</td>\n",
              "      <td>3.0</td>\n",
              "      <td>1.0</td>\n",
              "      <td>2.0</td>\n",
              "      <td>1.0</td>\n",
              "      <td>3.0</td>\n",
              "      <td>1.0</td>\n",
              "      <td>1.0</td>\n",
              "      <td>4.0</td>\n",
              "      <td>1.0</td>\n",
              "      <td>5.0</td>\n",
              "      <td>1.0</td>\n",
              "      <td>5.0</td>\n",
              "      <td>3.0</td>\n",
              "      <td>4.0</td>\n",
              "      <td>5.0</td>\n",
              "      <td>3.0</td>\n",
              "      <td>3.0</td>\n",
              "      <td>2.0</td>\n",
              "      <td>5.0</td>\n",
              "      <td>3.0</td>\n",
              "      <td>3.0</td>\n",
              "      <td>1.0</td>\n",
              "      <td>3.0</td>\n",
              "      <td>3.0</td>\n",
              "      <td>5.0</td>\n",
              "      <td>3.0</td>\n",
              "      <td>1.0</td>\n",
              "      <td>2.0</td>\n",
              "      <td>4.0</td>\n",
              "      <td>2.0</td>\n",
              "      <td>3.0</td>\n",
              "      <td>1.0</td>\n",
              "      <td>4.0</td>\n",
              "      <td>2.0</td>\n",
              "      <td>5.0</td>\n",
              "      <td>3.0</td>\n",
              "      <td>MY</td>\n",
              "    </tr>\n",
              "    <tr>\n",
              "      <th>2</th>\n",
              "      <td>2.0</td>\n",
              "      <td>3.0</td>\n",
              "      <td>4.0</td>\n",
              "      <td>4.0</td>\n",
              "      <td>3.0</td>\n",
              "      <td>2.0</td>\n",
              "      <td>1.0</td>\n",
              "      <td>3.0</td>\n",
              "      <td>2.0</td>\n",
              "      <td>5.0</td>\n",
              "      <td>4.0</td>\n",
              "      <td>4.0</td>\n",
              "      <td>4.0</td>\n",
              "      <td>2.0</td>\n",
              "      <td>2.0</td>\n",
              "      <td>2.0</td>\n",
              "      <td>2.0</td>\n",
              "      <td>2.0</td>\n",
              "      <td>1.0</td>\n",
              "      <td>3.0</td>\n",
              "      <td>1.0</td>\n",
              "      <td>4.0</td>\n",
              "      <td>1.0</td>\n",
              "      <td>4.0</td>\n",
              "      <td>2.0</td>\n",
              "      <td>4.0</td>\n",
              "      <td>1.0</td>\n",
              "      <td>4.0</td>\n",
              "      <td>4.0</td>\n",
              "      <td>3.0</td>\n",
              "      <td>4.0</td>\n",
              "      <td>2.0</td>\n",
              "      <td>2.0</td>\n",
              "      <td>2.0</td>\n",
              "      <td>3.0</td>\n",
              "      <td>3.0</td>\n",
              "      <td>4.0</td>\n",
              "      <td>2.0</td>\n",
              "      <td>4.0</td>\n",
              "      <td>2.0</td>\n",
              "      <td>5.0</td>\n",
              "      <td>1.0</td>\n",
              "      <td>2.0</td>\n",
              "      <td>1.0</td>\n",
              "      <td>4.0</td>\n",
              "      <td>2.0</td>\n",
              "      <td>5.0</td>\n",
              "      <td>3.0</td>\n",
              "      <td>4.0</td>\n",
              "      <td>4.0</td>\n",
              "      <td>GB</td>\n",
              "    </tr>\n",
              "    <tr>\n",
              "      <th>3</th>\n",
              "      <td>2.0</td>\n",
              "      <td>2.0</td>\n",
              "      <td>2.0</td>\n",
              "      <td>3.0</td>\n",
              "      <td>4.0</td>\n",
              "      <td>2.0</td>\n",
              "      <td>2.0</td>\n",
              "      <td>4.0</td>\n",
              "      <td>1.0</td>\n",
              "      <td>4.0</td>\n",
              "      <td>3.0</td>\n",
              "      <td>3.0</td>\n",
              "      <td>3.0</td>\n",
              "      <td>2.0</td>\n",
              "      <td>3.0</td>\n",
              "      <td>2.0</td>\n",
              "      <td>2.0</td>\n",
              "      <td>2.0</td>\n",
              "      <td>4.0</td>\n",
              "      <td>3.0</td>\n",
              "      <td>2.0</td>\n",
              "      <td>4.0</td>\n",
              "      <td>3.0</td>\n",
              "      <td>4.0</td>\n",
              "      <td>2.0</td>\n",
              "      <td>4.0</td>\n",
              "      <td>2.0</td>\n",
              "      <td>4.0</td>\n",
              "      <td>3.0</td>\n",
              "      <td>4.0</td>\n",
              "      <td>2.0</td>\n",
              "      <td>4.0</td>\n",
              "      <td>4.0</td>\n",
              "      <td>4.0</td>\n",
              "      <td>1.0</td>\n",
              "      <td>2.0</td>\n",
              "      <td>2.0</td>\n",
              "      <td>3.0</td>\n",
              "      <td>1.0</td>\n",
              "      <td>4.0</td>\n",
              "      <td>4.0</td>\n",
              "      <td>2.0</td>\n",
              "      <td>5.0</td>\n",
              "      <td>2.0</td>\n",
              "      <td>3.0</td>\n",
              "      <td>1.0</td>\n",
              "      <td>4.0</td>\n",
              "      <td>4.0</td>\n",
              "      <td>3.0</td>\n",
              "      <td>3.0</td>\n",
              "      <td>GB</td>\n",
              "    </tr>\n",
              "    <tr>\n",
              "      <th>4</th>\n",
              "      <td>3.0</td>\n",
              "      <td>3.0</td>\n",
              "      <td>3.0</td>\n",
              "      <td>3.0</td>\n",
              "      <td>5.0</td>\n",
              "      <td>3.0</td>\n",
              "      <td>3.0</td>\n",
              "      <td>5.0</td>\n",
              "      <td>3.0</td>\n",
              "      <td>4.0</td>\n",
              "      <td>1.0</td>\n",
              "      <td>5.0</td>\n",
              "      <td>5.0</td>\n",
              "      <td>3.0</td>\n",
              "      <td>1.0</td>\n",
              "      <td>1.0</td>\n",
              "      <td>1.0</td>\n",
              "      <td>1.0</td>\n",
              "      <td>3.0</td>\n",
              "      <td>2.0</td>\n",
              "      <td>1.0</td>\n",
              "      <td>5.0</td>\n",
              "      <td>1.0</td>\n",
              "      <td>5.0</td>\n",
              "      <td>1.0</td>\n",
              "      <td>3.0</td>\n",
              "      <td>1.0</td>\n",
              "      <td>5.0</td>\n",
              "      <td>5.0</td>\n",
              "      <td>3.0</td>\n",
              "      <td>5.0</td>\n",
              "      <td>1.0</td>\n",
              "      <td>5.0</td>\n",
              "      <td>1.0</td>\n",
              "      <td>3.0</td>\n",
              "      <td>1.0</td>\n",
              "      <td>5.0</td>\n",
              "      <td>1.0</td>\n",
              "      <td>5.0</td>\n",
              "      <td>5.0</td>\n",
              "      <td>5.0</td>\n",
              "      <td>1.0</td>\n",
              "      <td>5.0</td>\n",
              "      <td>1.0</td>\n",
              "      <td>5.0</td>\n",
              "      <td>1.0</td>\n",
              "      <td>5.0</td>\n",
              "      <td>3.0</td>\n",
              "      <td>5.0</td>\n",
              "      <td>5.0</td>\n",
              "      <td>KE</td>\n",
              "    </tr>\n",
              "  </tbody>\n",
              "</table>\n",
              "</div>\n",
              "      <button class=\"colab-df-convert\" onclick=\"convertToInteractive('df-29008471-3c0e-4eb4-888a-9ef405951930')\"\n",
              "              title=\"Convert this dataframe to an interactive table.\"\n",
              "              style=\"display:none;\">\n",
              "        \n",
              "  <svg xmlns=\"http://www.w3.org/2000/svg\" height=\"24px\"viewBox=\"0 0 24 24\"\n",
              "       width=\"24px\">\n",
              "    <path d=\"M0 0h24v24H0V0z\" fill=\"none\"/>\n",
              "    <path d=\"M18.56 5.44l.94 2.06.94-2.06 2.06-.94-2.06-.94-.94-2.06-.94 2.06-2.06.94zm-11 1L8.5 8.5l.94-2.06 2.06-.94-2.06-.94L8.5 2.5l-.94 2.06-2.06.94zm10 10l.94 2.06.94-2.06 2.06-.94-2.06-.94-.94-2.06-.94 2.06-2.06.94z\"/><path d=\"M17.41 7.96l-1.37-1.37c-.4-.4-.92-.59-1.43-.59-.52 0-1.04.2-1.43.59L10.3 9.45l-7.72 7.72c-.78.78-.78 2.05 0 2.83L4 21.41c.39.39.9.59 1.41.59.51 0 1.02-.2 1.41-.59l7.78-7.78 2.81-2.81c.8-.78.8-2.07 0-2.86zM5.41 20L4 18.59l7.72-7.72 1.47 1.35L5.41 20z\"/>\n",
              "  </svg>\n",
              "      </button>\n",
              "      \n",
              "  <style>\n",
              "    .colab-df-container {\n",
              "      display:flex;\n",
              "      flex-wrap:wrap;\n",
              "      gap: 12px;\n",
              "    }\n",
              "\n",
              "    .colab-df-convert {\n",
              "      background-color: #E8F0FE;\n",
              "      border: none;\n",
              "      border-radius: 50%;\n",
              "      cursor: pointer;\n",
              "      display: none;\n",
              "      fill: #1967D2;\n",
              "      height: 32px;\n",
              "      padding: 0 0 0 0;\n",
              "      width: 32px;\n",
              "    }\n",
              "\n",
              "    .colab-df-convert:hover {\n",
              "      background-color: #E2EBFA;\n",
              "      box-shadow: 0px 1px 2px rgba(60, 64, 67, 0.3), 0px 1px 3px 1px rgba(60, 64, 67, 0.15);\n",
              "      fill: #174EA6;\n",
              "    }\n",
              "\n",
              "    [theme=dark] .colab-df-convert {\n",
              "      background-color: #3B4455;\n",
              "      fill: #D2E3FC;\n",
              "    }\n",
              "\n",
              "    [theme=dark] .colab-df-convert:hover {\n",
              "      background-color: #434B5C;\n",
              "      box-shadow: 0px 1px 3px 1px rgba(0, 0, 0, 0.15);\n",
              "      filter: drop-shadow(0px 1px 2px rgba(0, 0, 0, 0.3));\n",
              "      fill: #FFFFFF;\n",
              "    }\n",
              "  </style>\n",
              "\n",
              "      <script>\n",
              "        const buttonEl =\n",
              "          document.querySelector('#df-29008471-3c0e-4eb4-888a-9ef405951930 button.colab-df-convert');\n",
              "        buttonEl.style.display =\n",
              "          google.colab.kernel.accessAllowed ? 'block' : 'none';\n",
              "\n",
              "        async function convertToInteractive(key) {\n",
              "          const element = document.querySelector('#df-29008471-3c0e-4eb4-888a-9ef405951930');\n",
              "          const dataTable =\n",
              "            await google.colab.kernel.invokeFunction('convertToInteractive',\n",
              "                                                     [key], {});\n",
              "          if (!dataTable) return;\n",
              "\n",
              "          const docLinkHtml = 'Like what you see? Visit the ' +\n",
              "            '<a target=\"_blank\" href=https://colab.research.google.com/notebooks/data_table.ipynb>data table notebook</a>'\n",
              "            + ' to learn more about interactive tables.';\n",
              "          element.innerHTML = '';\n",
              "          dataTable['output_type'] = 'display_data';\n",
              "          await google.colab.output.renderOutput(dataTable, element);\n",
              "          const docLink = document.createElement('div');\n",
              "          docLink.innerHTML = docLinkHtml;\n",
              "          element.appendChild(docLink);\n",
              "        }\n",
              "      </script>\n",
              "    </div>\n",
              "  </div>\n",
              "  "
            ],
            "text/plain": [
              "   EXT1  EXT2  EXT3  EXT4  EXT5  EXT6  EXT7  EXT8  EXT9  EXT10  EST1  EST2  \\\n",
              "0   4.0   1.0   5.0   2.0   5.0   1.0   5.0   2.0   4.0    1.0   1.0   4.0   \n",
              "1   3.0   5.0   3.0   4.0   3.0   3.0   2.0   5.0   1.0    5.0   2.0   3.0   \n",
              "2   2.0   3.0   4.0   4.0   3.0   2.0   1.0   3.0   2.0    5.0   4.0   4.0   \n",
              "3   2.0   2.0   2.0   3.0   4.0   2.0   2.0   4.0   1.0    4.0   3.0   3.0   \n",
              "4   3.0   3.0   3.0   3.0   5.0   3.0   3.0   5.0   3.0    4.0   1.0   5.0   \n",
              "\n",
              "   EST3  EST4  EST5  EST6  EST7  EST8  EST9  EST10  AGR1  AGR2  AGR3  AGR4  \\\n",
              "0   4.0   2.0   2.0   2.0   2.0   2.0   3.0    2.0   2.0   5.0   2.0   4.0   \n",
              "1   4.0   1.0   3.0   1.0   2.0   1.0   3.0    1.0   1.0   4.0   1.0   5.0   \n",
              "2   4.0   2.0   2.0   2.0   2.0   2.0   1.0    3.0   1.0   4.0   1.0   4.0   \n",
              "3   3.0   2.0   3.0   2.0   2.0   2.0   4.0    3.0   2.0   4.0   3.0   4.0   \n",
              "4   5.0   3.0   1.0   1.0   1.0   1.0   3.0    2.0   1.0   5.0   1.0   5.0   \n",
              "\n",
              "   AGR5  AGR6  AGR7  AGR8  AGR9  AGR10  CSN1  CSN2  CSN3  CSN4  CSN5  CSN6  \\\n",
              "0   2.0   3.0   2.0   4.0   3.0    4.0   3.0   4.0   3.0   2.0   2.0   4.0   \n",
              "1   1.0   5.0   3.0   4.0   5.0    3.0   3.0   2.0   5.0   3.0   3.0   1.0   \n",
              "2   2.0   4.0   1.0   4.0   4.0    3.0   4.0   2.0   2.0   2.0   3.0   3.0   \n",
              "3   2.0   4.0   2.0   4.0   3.0    4.0   2.0   4.0   4.0   4.0   1.0   2.0   \n",
              "4   1.0   3.0   1.0   5.0   5.0    3.0   5.0   1.0   5.0   1.0   3.0   1.0   \n",
              "\n",
              "   CSN7  CSN8  CSN9  CSN10  OPN1  OPN2  OPN3  OPN4  OPN5  OPN6  OPN7  OPN8  \\\n",
              "0   4.0   2.0   4.0    4.0   5.0   1.0   4.0   1.0   4.0   1.0   5.0   3.0   \n",
              "1   3.0   3.0   5.0    3.0   1.0   2.0   4.0   2.0   3.0   1.0   4.0   2.0   \n",
              "2   4.0   2.0   4.0    2.0   5.0   1.0   2.0   1.0   4.0   2.0   5.0   3.0   \n",
              "3   2.0   3.0   1.0    4.0   4.0   2.0   5.0   2.0   3.0   1.0   4.0   4.0   \n",
              "4   5.0   1.0   5.0    5.0   5.0   1.0   5.0   1.0   5.0   1.0   5.0   3.0   \n",
              "\n",
              "   OPN9  OPN10 country  \n",
              "0   4.0    5.0      GB  \n",
              "1   5.0    3.0      MY  \n",
              "2   4.0    4.0      GB  \n",
              "3   3.0    3.0      GB  \n",
              "4   5.0    5.0      KE  "
            ]
          },
          "metadata": {},
          "execution_count": 3
        }
      ],
      "source": [
        "dat = pd.read_csv('/content/drive/MyDrive/Data/data-final.csv', sep='\\t')\n",
        "data = dat.copy()\n",
        "pd.options.display.max_columns = 100\n",
        "data.drop(data.columns[50:107], axis=1, inplace=True)\n",
        "data.drop(data.columns[51:], axis=1, inplace=True)\n",
        "print('Number of participants: ', len(data))\n",
        "data.head()"
      ]
    },
    {
      "cell_type": "code",
      "source": [
        "data = data.dropna()"
      ],
      "metadata": {
        "id": "VLpuFOFjzZTr"
      },
      "execution_count": 4,
      "outputs": []
    },
    {
      "cell_type": "code",
      "source": [
        "data.isna().sum()"
      ],
      "metadata": {
        "id": "F3Oakw6WzaSr",
        "colab": {
          "base_uri": "https://localhost:8080/"
        },
        "outputId": "137142d1-5365-442a-90ee-df9f4b12b37a"
      },
      "execution_count": 5,
      "outputs": [
        {
          "output_type": "execute_result",
          "data": {
            "text/plain": [
              "EXT1       0\n",
              "EXT2       0\n",
              "EXT3       0\n",
              "EXT4       0\n",
              "EXT5       0\n",
              "EXT6       0\n",
              "EXT7       0\n",
              "EXT8       0\n",
              "EXT9       0\n",
              "EXT10      0\n",
              "EST1       0\n",
              "EST2       0\n",
              "EST3       0\n",
              "EST4       0\n",
              "EST5       0\n",
              "EST6       0\n",
              "EST7       0\n",
              "EST8       0\n",
              "EST9       0\n",
              "EST10      0\n",
              "AGR1       0\n",
              "AGR2       0\n",
              "AGR3       0\n",
              "AGR4       0\n",
              "AGR5       0\n",
              "AGR6       0\n",
              "AGR7       0\n",
              "AGR8       0\n",
              "AGR9       0\n",
              "AGR10      0\n",
              "CSN1       0\n",
              "CSN2       0\n",
              "CSN3       0\n",
              "CSN4       0\n",
              "CSN5       0\n",
              "CSN6       0\n",
              "CSN7       0\n",
              "CSN8       0\n",
              "CSN9       0\n",
              "CSN10      0\n",
              "OPN1       0\n",
              "OPN2       0\n",
              "OPN3       0\n",
              "OPN4       0\n",
              "OPN5       0\n",
              "OPN6       0\n",
              "OPN7       0\n",
              "OPN8       0\n",
              "OPN9       0\n",
              "OPN10      0\n",
              "country    0\n",
              "dtype: int64"
            ]
          },
          "metadata": {},
          "execution_count": 5
        }
      ]
    },
    {
      "cell_type": "code",
      "source": [
        "data = data.drop_duplicates()"
      ],
      "metadata": {
        "id": "6URk9y650-X5"
      },
      "execution_count": 6,
      "outputs": []
    },
    {
      "cell_type": "code",
      "source": [
        "countries = pd.DataFrame(data['country'].value_counts())\n",
        "countries_5000 = countries[countries['country'] >= 5000]\n",
        "plt.figure(figsize=(15,5))\n",
        "sns.barplot(data=countries_5000, x=countries_5000.index, y='country')\n",
        "plt.title('Countries With More Than 5000 Participants')\n",
        "plt.ylabel('Participants');"
      ],
      "metadata": {
        "id": "2ITlaGou1VUG",
        "colab": {
          "base_uri": "https://localhost:8080/",
          "height": 336
        },
        "outputId": "aacb1205-6bca-4294-c092-7549b4049c01"
      },
      "execution_count": 7,
      "outputs": [
        {
          "output_type": "display_data",
          "data": {
            "image/png": "[encoded data removed]",
            "text/plain": [
              "<Figure size 1080x360 with 1 Axes>"
            ]
          },
          "metadata": {
            "needs_background": "light"
          }
        }
      ]
    },
    {
      "cell_type": "code",
      "source": [
        "df = data.drop('country', axis=1)"
      ],
      "metadata": {
        "id": "CALfN_uUF9cC"
      },
      "execution_count": 8,
      "outputs": []
    },
    {
      "cell_type": "code",
      "source": [
        "df.dtypes"
      ],
      "metadata": {
        "id": "gxFI86bm5rkq",
        "colab": {
          "base_uri": "https://localhost:8080/"
        },
        "outputId": "8cdf7328-9f16-4ba4-913e-6497c50b6554"
      },
      "execution_count": 9,
      "outputs": [
        {
          "output_type": "execute_result",
          "data": {
            "text/plain": [
              "EXT1     float64\n",
              "EXT2     float64\n",
              "EXT3     float64\n",
              "EXT4     float64\n",
              "EXT5     float64\n",
              "EXT6     float64\n",
              "EXT7     float64\n",
              "EXT8     float64\n",
              "EXT9     float64\n",
              "EXT10    float64\n",
              "EST1     float64\n",
              "EST2     float64\n",
              "EST3     float64\n",
              "EST4     float64\n",
              "EST5     float64\n",
              "EST6     float64\n",
              "EST7     float64\n",
              "EST8     float64\n",
              "EST9     float64\n",
              "EST10    float64\n",
              "AGR1     float64\n",
              "AGR2     float64\n",
              "AGR3     float64\n",
              "AGR4     float64\n",
              "AGR5     float64\n",
              "AGR6     float64\n",
              "AGR7     float64\n",
              "AGR8     float64\n",
              "AGR9     float64\n",
              "AGR10    float64\n",
              "CSN1     float64\n",
              "CSN2     float64\n",
              "CSN3     float64\n",
              "CSN4     float64\n",
              "CSN5     float64\n",
              "CSN6     float64\n",
              "CSN7     float64\n",
              "CSN8     float64\n",
              "CSN9     float64\n",
              "CSN10    float64\n",
              "OPN1     float64\n",
              "OPN2     float64\n",
              "OPN3     float64\n",
              "OPN4     float64\n",
              "OPN5     float64\n",
              "OPN6     float64\n",
              "OPN7     float64\n",
              "OPN8     float64\n",
              "OPN9     float64\n",
              "OPN10    float64\n",
              "dtype: object"
            ]
          },
          "metadata": {},
          "execution_count": 9
        }
      ]
    },
    {
      "cell_type": "code",
      "source": [
        "from sklearn.preprocessing import StandardScaler\n",
        "from sklearn.decomposition import PCA\n",
        "\n",
        "scaler =  StandardScaler()\n",
        "scaler.fit(df)\n",
        "X_scaled = scaler.transform(df)"
      ],
      "metadata": {
        "id": "zPZTojWJ93p3"
      },
      "execution_count": 10,
      "outputs": []
    },
    {
      "cell_type": "code",
      "source": [
        "pca_2 = PCA(n_components = 5)\n",
        "data_embed = pca_2.fit_transform(X_scaled)"
      ],
      "metadata": {
        "id": "cz3tJX0J94Qd"
      },
      "execution_count": 11,
      "outputs": []
    },
    {
      "cell_type": "markdown",
      "source": [
        "Using SKLearn"
      ],
      "metadata": {
        "id": "TSuYl3Bl8dkF"
      }
    },
    {
      "cell_type": "code",
      "source": [
        "from sklearn.preprocessing import MinMaxScaler\n",
        "\n",
        "df = data.drop('country', axis=1)\n",
        "columns = list(df.columns)\n",
        "\n",
        "scaler = MinMaxScaler(feature_range=(0,1))\n",
        "df = scaler.fit_transform(df)\n",
        "df = pd.DataFrame(df, columns=columns)\n",
        "df_sample = df[:5000]"
      ],
      "metadata": {
        "id": "4s8eGG0f4IX0"
      },
      "execution_count": 12,
      "outputs": []
    },
    {
      "cell_type": "code",
      "source": [
        "from sklearn.cluster import KMeans\n",
        "from yellowbrick.cluster import KElbowVisualizer\n",
        "\n",
        "km = KMeans()\n",
        "visualizer = KElbowVisualizer(km, k=(2,15))\n",
        "visualizer.fit(df_sample)\n",
        "visualizer.poof()"
      ],
      "metadata": {
        "id": "REWnNTCe8jyX",
        "colab": {
          "base_uri": "https://localhost:8080/",
          "height": 395
        },
        "outputId": "5224cf5a-8aaf-4b8f-992a-30de55de37f4"
      },
      "execution_count": 13,
      "outputs": [
        {
          "output_type": "display_data",
          "data": {
            "image/png": "[encoded data removed]",
            "text/plain": [
              "<Figure size 576x396 with 2 Axes>"
            ]
          },
          "metadata": {}
        },
        {
          "output_type": "execute_result",
          "data": {
            "text/plain": [
              "<matplotlib.axes._subplots.AxesSubplot at 0x7f0b2f13fb10>"
            ]
          },
          "metadata": {},
          "execution_count": 13
        }
      ]
    },
    {
      "cell_type": "code",
      "source": [
        "km = KMeans(n_clusters=3).fit(df)\n",
        "km.labels_"
      ],
      "metadata": {
        "id": "Pm-iYmYW8sen",
        "colab": {
          "base_uri": "https://localhost:8080/"
        },
        "outputId": "96e45021-5692-4891-a3b4-2e1a5856ab9a"
      },
      "execution_count": 14,
      "outputs": [
        {
          "output_type": "execute_result",
          "data": {
            "text/plain": [
              "array([1, 0, 1, ..., 2, 0, 2], dtype=int32)"
            ]
          },
          "metadata": {},
          "execution_count": 14
        }
      ]
    },
    {
      "cell_type": "code",
      "source": [
        "y_kmeans = km.fit_predict(df)"
      ],
      "metadata": {
        "id": "MjVH9qC19Z_i"
      },
      "execution_count": 15,
      "outputs": []
    },
    {
      "cell_type": "code",
      "source": [
        "plt.scatter(data_embed[:, 0], data_embed[:, 1], c=y_kmeans, s=50, cmap='viridis')"
      ],
      "metadata": {
        "id": "5Vg7T35u9kZ4",
        "colab": {
          "base_uri": "https://localhost:8080/",
          "height": 366
        },
        "outputId": "ccdd485f-6359-4910-e2ee-9b04e97ce40b"
      },
      "execution_count": 16,
      "outputs": [
        {
          "output_type": "execute_result",
          "data": {
            "text/plain": [
              "<matplotlib.collections.PathCollection at 0x7f0b2f0a2810>"
            ]
          },
          "metadata": {},
          "execution_count": 16
        },
        {
          "output_type": "display_data",
          "data": {
            "image/png": "[encoded data removed]",
            "text/plain": [
              "<Figure size 576x396 with 1 Axes>"
            ]
          },
          "metadata": {}
        }
      ]
    },
    {
      "cell_type": "markdown",
      "source": [
        "Using PyTorch"
      ],
      "metadata": {
        "id": "cb0n9CvH9le-"
      }
    },
    {
      "cell_type": "code",
      "source": [
        "data_size, dims, num_clusters = 10000, 2, 3\n",
        "x = torch.from_numpy(df.to_numpy()) "
      ],
      "metadata": {
        "id": "joLtnLGpbs_h"
      },
      "execution_count": 43,
      "outputs": []
    },
    {
      "cell_type": "code",
      "execution_count": 18,
      "metadata": {
        "id": "4uQs-3jjM4mg",
        "colab": {
          "base_uri": "https://localhost:8080/"
        },
        "outputId": "d2fb0dce-ab7f-4347-897d-1b3952a70f3d"
      },
      "outputs": [
        {
          "output_type": "stream",
          "name": "stdout",
          "text": [
            "running k-means on cuda..\n"
          ]
        },
        {
          "output_type": "stream",
          "name": "stderr",
          "text": [
            "[running kmeans]: 18it [00:19,  1.09s/it, center_shift=0.000096, iteration=18, tol=0.000100]\n"
          ]
        }
      ],
      "source": [
        "cluster_ids_x, cluster_centers = kms(X=x,num_clusters=num_clusters,distance='euclidean',\n",
        "device=torch.device(\"cuda\" if torch.cuda.is_available() else \"cpu\"))"
      ]
    },
    {
      "cell_type": "code",
      "source": [
        "cluster_ids_x"
      ],
      "metadata": {
        "id": "WV9EQJkYr_q1",
        "colab": {
          "base_uri": "https://localhost:8080/"
        },
        "outputId": "af5b1b05-369b-4faa-c93f-e054f87265cc"
      },
      "execution_count": 19,
      "outputs": [
        {
          "output_type": "execute_result",
          "data": {
            "text/plain": [
              "tensor([1, 2, 2,  ..., 1, 2, 1])"
            ]
          },
          "metadata": {},
          "execution_count": 19
        }
      ]
    },
    {
      "cell_type": "code",
      "source": [
        "num_clusters"
      ],
      "metadata": {
        "id": "U7D3daSWsDe7",
        "colab": {
          "base_uri": "https://localhost:8080/"
        },
        "outputId": "2ce760aa-f63a-4cb0-8567-c71675bf6ee2"
      },
      "execution_count": 20,
      "outputs": [
        {
          "output_type": "execute_result",
          "data": {
            "text/plain": [
              "3"
            ]
          },
          "metadata": {},
          "execution_count": 20
        }
      ]
    },
    {
      "cell_type": "code",
      "execution_count": 21,
      "metadata": {
        "id": "rmMsH0dYbzWU",
        "colab": {
          "base_uri": "https://localhost:8080/"
        },
        "outputId": "4d2e3f06-02e6-4592-d0ce-fe8b8cb68d67"
      },
      "outputs": [
        {
          "output_type": "execute_result",
          "data": {
            "text/plain": [
              "tensor([[0.4802, 0.5908, 0.5625, 0.7038, 0.5978, 0.5222, 0.4840, 0.7242, 0.5487,\n",
              "         0.8036, 0.8436, 0.5066, 0.9000, 0.4372, 0.7088, 0.7716, 0.8084, 0.7578,\n",
              "         0.7927, 0.7509, 0.4529, 0.7566, 0.5124, 0.8150, 0.4479, 0.8018, 0.4591,\n",
              "         0.7384, 0.7944, 0.6825, 0.5859, 0.6766, 0.7767, 0.6718, 0.4455, 0.6872,\n",
              "         0.7171, 0.5834, 0.5877, 0.6846, 0.7202, 0.4574, 0.8328, 0.4118, 0.7291,\n",
              "         0.3878, 0.7572, 0.6511, 0.8593, 0.7848],\n",
              "        [0.6891, 0.3899, 0.8384, 0.4624, 0.8389, 0.3443, 0.7589, 0.5653, 0.7402,\n",
              "         0.5336, 0.5555, 0.7122, 0.7022, 0.6015, 0.4896, 0.4657, 0.5168, 0.4275,\n",
              "         0.5121, 0.4173, 0.3915, 0.8769, 0.4067, 0.8450, 0.3782, 0.7782, 0.3310,\n",
              "         0.8083, 0.8210, 0.8197, 0.7078, 0.5625, 0.8197, 0.4425, 0.5847, 0.5130,\n",
              "         0.7553, 0.4305, 0.6891, 0.7551, 0.7642, 0.3736, 0.8209, 0.3720, 0.8180,\n",
              "         0.3395, 0.8412, 0.6493, 0.8216, 0.8485],\n",
              "        [0.3895, 0.7237, 0.5466, 0.7525, 0.4964, 0.6050, 0.3825, 0.7882, 0.4626,\n",
              "         0.8323, 0.5700, 0.6871, 0.7057, 0.5620, 0.5064, 0.4609, 0.4977, 0.4164,\n",
              "         0.5485, 0.4999, 0.5264, 0.6440, 0.4401, 0.6818, 0.5599, 0.6541, 0.5544,\n",
              "         0.6540, 0.6408, 0.6387, 0.6906, 0.5129, 0.7921, 0.4539, 0.5471, 0.4946,\n",
              "         0.7524, 0.4680, 0.6448, 0.7166, 0.7074, 0.4196, 0.7415, 0.4229, 0.7245,\n",
              "         0.4196, 0.7889, 0.6077, 0.7943, 0.7346]])"
            ]
          },
          "metadata": {},
          "execution_count": 21
        }
      ],
      "source": [
        "cluster_centers"
      ]
    },
    {
      "cell_type": "code",
      "execution_count": 22,
      "metadata": {
        "id": "8DGu1A9ZcLCY"
      },
      "outputs": [],
      "source": [
        "clus_data = df\n",
        "clus_data['clusters'] = cluster_ids_x"
      ]
    },
    {
      "cell_type": "code",
      "source": [
        "plt.scatter(data_embed[:, 0], data_embed[:, 1], c=cluster_ids_x, s=50, cmap='viridis')"
      ],
      "metadata": {
        "id": "1Hv9P7mmsE-P",
        "colab": {
          "base_uri": "https://localhost:8080/",
          "height": 366
        },
        "outputId": "44b60271-025e-4c0e-f082-58187b0d7bbc"
      },
      "execution_count": 23,
      "outputs": [
        {
          "output_type": "execute_result",
          "data": {
            "text/plain": [
              "<matplotlib.collections.PathCollection at 0x7f0b2f1875d0>"
            ]
          },
          "metadata": {},
          "execution_count": 23
        },
        {
          "output_type": "display_data",
          "data": {
            "image/png": "[encoded data removed]",
            "text/plain": [
              "<Figure size 576x396 with 1 Axes>"
            ]
          },
          "metadata": {}
        }
      ]
    },
    {
      "cell_type": "markdown",
      "source": [
        "**AGGLOMERATIVE**"
      ],
      "metadata": {
        "id": "-5hv3Mvq-k_O"
      }
    },
    {
      "cell_type": "code",
      "source": [
        "import numpy as np\n",
        "import pandas as pd\n",
        "import sklearn\n",
        "import matplotlib.pyplot as plt\n",
        "import scipy.cluster.hierarchy as sch\n",
        "from sklearn.cluster import AgglomerativeClustering"
      ],
      "metadata": {
        "id": "DTXtc8ZP-q8h"
      },
      "execution_count": 38,
      "outputs": []
    },
    {
      "cell_type": "code",
      "source": [
        "df = df.head(100000)"
      ],
      "metadata": {
        "id": "k8W49uafStIq"
      },
      "execution_count": 55,
      "outputs": []
    },
    {
      "cell_type": "code",
      "source": [
        "x = torch.from_numpy(df.to_numpy()) "
      ],
      "metadata": {
        "id": "bFICpMCmSaLf"
      },
      "execution_count": 56,
      "outputs": []
    },
    {
      "cell_type": "code",
      "source": [
        "plt.scatter(x[:,0],x[:,1])"
      ],
      "metadata": {
        "id": "omf99SSe_D_b",
        "colab": {
          "base_uri": "https://localhost:8080/",
          "height": 366
        },
        "outputId": "863d417b-840b-4097-e33e-e77e06b5ed53"
      },
      "execution_count": 48,
      "outputs": [
        {
          "output_type": "execute_result",
          "data": {
            "text/plain": [
              "<matplotlib.collections.PathCollection at 0x7f0aa5bc7450>"
            ]
          },
          "metadata": {},
          "execution_count": 48
        },
        {
          "output_type": "display_data",
          "data": {
            "image/png": "[encoded data removed]",
            "text/plain": [
              "<Figure size 576x396 with 1 Axes>"
            ]
          },
          "metadata": {}
        }
      ]
    },
    {
      "cell_type": "code",
      "source": [
        "hcs = AgglomerativeClustering(linkage='single',n_clusters=3).fit(x)\n",
        "hcs.labels_"
      ],
      "metadata": {
        "id": "SFS3HsdI_wVj",
        "colab": {
          "base_uri": "https://localhost:8080/"
        },
        "outputId": "50b70c06-5296-44a9-fe56-fb445f48f205"
      },
      "execution_count": 58,
      "outputs": [
        {
          "output_type": "execute_result",
          "data": {
            "text/plain": [
              "array([0, 0, 0, ..., 0, 0, 0])"
            ]
          },
          "metadata": {},
          "execution_count": 58
        }
      ]
    },
    {
      "cell_type": "code",
      "source": [
        "y_hcs = hcs.fit_predict(x)"
      ],
      "metadata": {
        "id": "JUARK7yq_zGN"
      },
      "execution_count": 59,
      "outputs": []
    },
    {
      "cell_type": "code",
      "source": [
        "plt.scatter(x[y_hcs ==0,0],x[y_hcs==0,1],s=100,c='green', cmap='viridis')\n",
        "plt.scatter(x[y_hcs ==1,0],x[y_hcs==1,1],s=100,c='blue',cmap='viridis')\n",
        "plt.scatter(x[y_hcs ==2,0],x[y_hcs==2,1],s=100,c='yellow', cmap='viridis')\n",
        "plt.scatter(x[y_hcs ==3,0],x[y_hcs==3,1],s=100,c='red', cmap='viridis')"
      ],
      "metadata": {
        "id": "mQ0-BAqk_5f9",
        "colab": {
          "base_uri": "https://localhost:8080/",
          "height": 366
        },
        "outputId": "5e62638c-ab2f-4652-8cd4-ce715fdc1de8"
      },
      "execution_count": 63,
      "outputs": [
        {
          "output_type": "execute_result",
          "data": {
            "text/plain": [
              "<matplotlib.collections.PathCollection at 0x7f0aa57ffb50>"
            ]
          },
          "metadata": {},
          "execution_count": 63
        },
        {
          "output_type": "display_data",
          "data": {
            "image/png": "[encoded data removed]",
            "text/plain": [
              "<Figure size 576x396 with 1 Axes>"
            ]
          },
          "metadata": {}
        }
      ]
    },
    {
      "cell_type": "markdown",
      "source": [
        "**REFERENCES**\n",
        "\n",
        "https://www.kaggle.com/akdagmelih/five-personality-clusters-k-means\n",
        "\n",
        "https://scikit-learn.org/stable/modules/generated/sklearn.cluster.AgglomerativeClustering.html\n",
        "\n",
        "https://www.kernel-operations.io/keops/_auto_tutorials/kmeans/plot_kmeans_torch.html\n",
        "\n",
        "https://towardsdatascience.com/breaking-down-the-agglomerative-clustering-process-1c367f74c7c2\n",
        "\n",
        "https://www.datanovia.com/en/lessons/agglomerative-hierarchical-clustering/"
      ],
      "metadata": {
        "id": "77dc4_TMAl8O"
      }
    }
  ],
  "metadata": {
    "colab": {
      "name": "Kmeans_Pytorch.ipynb",
      "provenance": [],
      "collapsed_sections": [],
      "mount_file_id": "1BIJPx-u3u5fDVtdc_Qy2ic3im1uqlHZP",
      "authorship_tag": "ABX9TyNwbxkWPwzxeEqn58w+ZLl4",
      "include_colab_link": true
    },
    "kernelspec": {
      "display_name": "Python 3",
      "name": "python3"
    },
    "language_info": {
      "name": "python"
    },
    "accelerator": "GPU"
  },
  "nbformat": 4,
  "nbformat_minor": 0
}