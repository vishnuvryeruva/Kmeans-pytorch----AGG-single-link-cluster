{
  "cells": [
    {
      "cell_type": "markdown",
      "metadata": {
        "id": "view-in-github",
        "colab_type": "text"
      },
      "source": [
        "<a href=\"https://colab.research.google.com/github/vishnuvryeruva/Kmeans-pytorch----AGG-single-link-cluster/blob/main/Kmeans_Pytorch.ipynb\" target=\"_parent\"><img src=\"https://colab.research.google.com/assets/colab-badge.svg\" alt=\"Open In Colab\"/></a>"
      ]
    },
    {
      "cell_type": "markdown",
      "source": [
        "**K MEANS**"
      ],
      "metadata": {
        "id": "D0pi6ckH-120"
      }
    },
    {
      "cell_type": "code",
      "execution_count": 1,
      "metadata": {
        "id": "JBDRe92q5WV0",
        "colab": {
          "base_uri": "https://localhost:8080/"
        },
        "outputId": "60494a1f-3323-49d0-bf45-5e539c256b6d"
      },
      "outputs": [
        {
          "output_type": "execute_result",
          "data": {
            "text/plain": [
              "['Collecting kmeans_pytorch',\n",
              " '  Downloading kmeans_pytorch-0.3-py3-none-any.whl (4.4 kB)',\n",
              " 'Installing collected packages: kmeans-pytorch',\n",
              " 'Successfully installed kmeans-pytorch-0.3']"
            ]
          },
          "metadata": {},
          "execution_count": 1
        }
      ],
      "source": [
        "!!pip install kmeans_pytorch"
      ]
    },
    {
      "cell_type": "code",
      "execution_count": 2,
      "metadata": {
        "id": "QEW_yPxH6NC8"
      },
      "outputs": [],
      "source": [
        "import torch\n",
        "import numpy as np\n",
        "from kmeans_pytorch import kmeans_predict, kmeans\n",
        "import matplotlib.pyplot as plt\n",
        "import pandas as pd\n",
        "import seaborn as sns"
      ]
    },
    {
      "cell_type": "code",
      "execution_count": 3,
      "metadata": {
        "id": "TGJ06Y3g7-aJ",
        "colab": {
          "base_uri": "https://localhost:8080/",
          "height": 289
        },
        "outputId": "dba17155-e121-4284-f9d2-55217fa528bf"
      },
      "outputs": [
        {
          "output_type": "stream",
          "name": "stdout",
          "text": [
            "Number of participants:  1015341\n"
          ]
        },
        {
          "output_type": "execute_result",
          "data": {
            "text/html": [
              "\n",
              "  <div id=\"df-6e179df6-51fa-4570-8b79-683794f3391e\">\n",
              "    <div class=\"colab-df-container\">\n",
              "      <div>\n",
              "<style scoped>\n",
              "    .dataframe tbody tr th:only-of-type {\n",
              "        vertical-align: middle;\n",
              "    }\n",
              "\n",
              "    .dataframe tbody tr th {\n",
              "        vertical-align: top;\n",
              "    }\n",
              "\n",
              "    .dataframe thead th {\n",
              "        text-align: right;\n",
              "    }\n",
              "</style>\n",
              "<table border=\"1\" class=\"dataframe\">\n",
              "  <thead>\n",
              "    <tr style=\"text-align: right;\">\n",
              "      <th></th>\n",
              "      <th>EXT1</th>\n",
              "      <th>EXT2</th>\n",
              "      <th>EXT3</th>\n",
              "      <th>EXT4</th>\n",
              "      <th>EXT5</th>\n",
              "      <th>EXT6</th>\n",
              "      <th>EXT7</th>\n",
              "      <th>EXT8</th>\n",
              "      <th>EXT9</th>\n",
              "      <th>EXT10</th>\n",
              "      <th>EST1</th>\n",
              "      <th>EST2</th>\n",
              "      <th>EST3</th>\n",
              "      <th>EST4</th>\n",
              "      <th>EST5</th>\n",
              "      <th>EST6</th>\n",
              "      <th>EST7</th>\n",
              "      <th>EST8</th>\n",
              "      <th>EST9</th>\n",
              "      <th>EST10</th>\n",
              "      <th>AGR1</th>\n",
              "      <th>AGR2</th>\n",
              "      <th>AGR3</th>\n",
              "      <th>AGR4</th>\n",
              "      <th>AGR5</th>\n",
              "      <th>AGR6</th>\n",
              "      <th>AGR7</th>\n",
              "      <th>AGR8</th>\n",
              "      <th>AGR9</th>\n",
              "      <th>AGR10</th>\n",
              "      <th>CSN1</th>\n",
              "      <th>CSN2</th>\n",
              "      <th>CSN3</th>\n",
              "      <th>CSN4</th>\n",
              "      <th>CSN5</th>\n",
              "      <th>CSN6</th>\n",
              "      <th>CSN7</th>\n",
              "      <th>CSN8</th>\n",
              "      <th>CSN9</th>\n",
              "      <th>CSN10</th>\n",
              "      <th>OPN1</th>\n",
              "      <th>OPN2</th>\n",
              "      <th>OPN3</th>\n",
              "      <th>OPN4</th>\n",
              "      <th>OPN5</th>\n",
              "      <th>OPN6</th>\n",
              "      <th>OPN7</th>\n",
              "      <th>OPN8</th>\n",
              "      <th>OPN9</th>\n",
              "      <th>OPN10</th>\n",
              "      <th>country</th>\n",
              "    </tr>\n",
              "  </thead>\n",
              "  <tbody>\n",
              "    <tr>\n",
              "      <th>0</th>\n",
              "      <td>4.0</td>\n",
              "      <td>1.0</td>\n",
              "      <td>5.0</td>\n",
              "      <td>2.0</td>\n",
              "      <td>5.0</td>\n",
              "      <td>1.0</td>\n",
              "      <td>5.0</td>\n",
              "      <td>2.0</td>\n",
              "      <td>4.0</td>\n",
              "      <td>1.0</td>\n",
              "      <td>1.0</td>\n",
              "      <td>4.0</td>\n",
              "      <td>4.0</td>\n",
              "      <td>2.0</td>\n",
              "      <td>2.0</td>\n",
              "      <td>2.0</td>\n",
              "      <td>2.0</td>\n",
              "      <td>2.0</td>\n",
              "      <td>3.0</td>\n",
              "      <td>2.0</td>\n",
              "      <td>2.0</td>\n",
              "      <td>5.0</td>\n",
              "      <td>2.0</td>\n",
              "      <td>4.0</td>\n",
              "      <td>2.0</td>\n",
              "      <td>3.0</td>\n",
              "      <td>2.0</td>\n",
              "      <td>4.0</td>\n",
              "      <td>3.0</td>\n",
              "      <td>4.0</td>\n",
              "      <td>3.0</td>\n",
              "      <td>4.0</td>\n",
              "      <td>3.0</td>\n",
              "      <td>2.0</td>\n",
              "      <td>2.0</td>\n",
              "      <td>4.0</td>\n",
              "      <td>4.0</td>\n",
              "      <td>2.0</td>\n",
              "      <td>4.0</td>\n",
              "      <td>4.0</td>\n",
              "      <td>5.0</td>\n",
              "      <td>1.0</td>\n",
              "      <td>4.0</td>\n",
              "      <td>1.0</td>\n",
              "      <td>4.0</td>\n",
              "      <td>1.0</td>\n",
              "      <td>5.0</td>\n",
              "      <td>3.0</td>\n",
              "      <td>4.0</td>\n",
              "      <td>5.0</td>\n",
              "      <td>GB</td>\n",
              "    </tr>\n",
              "    <tr>\n",
              "      <th>1</th>\n",
              "      <td>3.0</td>\n",
              "      <td>5.0</td>\n",
              "      <td>3.0</td>\n",
              "      <td>4.0</td>\n",
              "      <td>3.0</td>\n",
              "      <td>3.0</td>\n",
              "      <td>2.0</td>\n",
              "      <td>5.0</td>\n",
              "      <td>1.0</td>\n",
              "      <td>5.0</td>\n",
              "      <td>2.0</td>\n",
              "      <td>3.0</td>\n",
              "      <td>4.0</td>\n",
              "      <td>1.0</td>\n",
              "      <td>3.0</td>\n",
              "      <td>1.0</td>\n",
              "      <td>2.0</td>\n",
              "      <td>1.0</td>\n",
              "      <td>3.0</td>\n",
              "      <td>1.0</td>\n",
              "      <td>1.0</td>\n",
              "      <td>4.0</td>\n",
              "      <td>1.0</td>\n",
              "      <td>5.0</td>\n",
              "      <td>1.0</td>\n",
              "      <td>5.0</td>\n",
              "      <td>3.0</td>\n",
              "      <td>4.0</td>\n",
              "      <td>5.0</td>\n",
              "      <td>3.0</td>\n",
              "      <td>3.0</td>\n",
              "      <td>2.0</td>\n",
              "      <td>5.0</td>\n",
              "      <td>3.0</td>\n",
              "      <td>3.0</td>\n",
              "      <td>1.0</td>\n",
              "      <td>3.0</td>\n",
              "      <td>3.0</td>\n",
              "      <td>5.0</td>\n",
              "      <td>3.0</td>\n",
              "      <td>1.0</td>\n",
              "      <td>2.0</td>\n",
              "      <td>4.0</td>\n",
              "      <td>2.0</td>\n",
              "      <td>3.0</td>\n",
              "      <td>1.0</td>\n",
              "      <td>4.0</td>\n",
              "      <td>2.0</td>\n",
              "      <td>5.0</td>\n",
              "      <td>3.0</td>\n",
              "      <td>MY</td>\n",
              "    </tr>\n",
              "    <tr>\n",
              "      <th>2</th>\n",
              "      <td>2.0</td>\n",
              "      <td>3.0</td>\n",
              "      <td>4.0</td>\n",
              "      <td>4.0</td>\n",
              "      <td>3.0</td>\n",
              "      <td>2.0</td>\n",
              "      <td>1.0</td>\n",
              "      <td>3.0</td>\n",
              "      <td>2.0</td>\n",
              "      <td>5.0</td>\n",
              "      <td>4.0</td>\n",
              "      <td>4.0</td>\n",
              "      <td>4.0</td>\n",
              "      <td>2.0</td>\n",
              "      <td>2.0</td>\n",
              "      <td>2.0</td>\n",
              "      <td>2.0</td>\n",
              "      <td>2.0</td>\n",
              "      <td>1.0</td>\n",
              "      <td>3.0</td>\n",
              "      <td>1.0</td>\n",
              "      <td>4.0</td>\n",
              "      <td>1.0</td>\n",
              "      <td>4.0</td>\n",
              "      <td>2.0</td>\n",
              "      <td>4.0</td>\n",
              "      <td>1.0</td>\n",
              "      <td>4.0</td>\n",
              "      <td>4.0</td>\n",
              "      <td>3.0</td>\n",
              "      <td>4.0</td>\n",
              "      <td>2.0</td>\n",
              "      <td>2.0</td>\n",
              "      <td>2.0</td>\n",
              "      <td>3.0</td>\n",
              "      <td>3.0</td>\n",
              "      <td>4.0</td>\n",
              "      <td>2.0</td>\n",
              "      <td>4.0</td>\n",
              "      <td>2.0</td>\n",
              "      <td>5.0</td>\n",
              "      <td>1.0</td>\n",
              "      <td>2.0</td>\n",
              "      <td>1.0</td>\n",
              "      <td>4.0</td>\n",
              "      <td>2.0</td>\n",
              "      <td>5.0</td>\n",
              "      <td>3.0</td>\n",
              "      <td>4.0</td>\n",
              "      <td>4.0</td>\n",
              "      <td>GB</td>\n",
              "    </tr>\n",
              "    <tr>\n",
              "      <th>3</th>\n",
              "      <td>2.0</td>\n",
              "      <td>2.0</td>\n",
              "      <td>2.0</td>\n",
              "      <td>3.0</td>\n",
              "      <td>4.0</td>\n",
              "      <td>2.0</td>\n",
              "      <td>2.0</td>\n",
              "      <td>4.0</td>\n",
              "      <td>1.0</td>\n",
              "      <td>4.0</td>\n",
              "      <td>3.0</td>\n",
              "      <td>3.0</td>\n",
              "      <td>3.0</td>\n",
              "      <td>2.0</td>\n",
              "      <td>3.0</td>\n",
              "      <td>2.0</td>\n",
              "      <td>2.0</td>\n",
              "      <td>2.0</td>\n",
              "      <td>4.0</td>\n",
              "      <td>3.0</td>\n",
              "      <td>2.0</td>\n",
              "      <td>4.0</td>\n",
              "      <td>3.0</td>\n",
              "      <td>4.0</td>\n",
              "      <td>2.0</td>\n",
              "      <td>4.0</td>\n",
              "      <td>2.0</td>\n",
              "      <td>4.0</td>\n",
              "      <td>3.0</td>\n",
              "      <td>4.0</td>\n",
              "      <td>2.0</td>\n",
              "      <td>4.0</td>\n",
              "      <td>4.0</td>\n",
              "      <td>4.0</td>\n",
              "      <td>1.0</td>\n",
              "      <td>2.0</td>\n",
              "      <td>2.0</td>\n",
              "      <td>3.0</td>\n",
              "      <td>1.0</td>\n",
              "      <td>4.0</td>\n",
              "      <td>4.0</td>\n",
              "      <td>2.0</td>\n",
              "      <td>5.0</td>\n",
              "      <td>2.0</td>\n",
              "      <td>3.0</td>\n",
              "      <td>1.0</td>\n",
              "      <td>4.0</td>\n",
              "      <td>4.0</td>\n",
              "      <td>3.0</td>\n",
              "      <td>3.0</td>\n",
              "      <td>GB</td>\n",
              "    </tr>\n",
              "    <tr>\n",
              "      <th>4</th>\n",
              "      <td>3.0</td>\n",
              "      <td>3.0</td>\n",
              "      <td>3.0</td>\n",
              "      <td>3.0</td>\n",
              "      <td>5.0</td>\n",
              "      <td>3.0</td>\n",
              "      <td>3.0</td>\n",
              "      <td>5.0</td>\n",
              "      <td>3.0</td>\n",
              "      <td>4.0</td>\n",
              "      <td>1.0</td>\n",
              "      <td>5.0</td>\n",
              "      <td>5.0</td>\n",
              "      <td>3.0</td>\n",
              "      <td>1.0</td>\n",
              "      <td>1.0</td>\n",
              "      <td>1.0</td>\n",
              "      <td>1.0</td>\n",
              "      <td>3.0</td>\n",
              "      <td>2.0</td>\n",
              "      <td>1.0</td>\n",
              "      <td>5.0</td>\n",
              "      <td>1.0</td>\n",
              "      <td>5.0</td>\n",
              "      <td>1.0</td>\n",
              "      <td>3.0</td>\n",
              "      <td>1.0</td>\n",
              "      <td>5.0</td>\n",
              "      <td>5.0</td>\n",
              "      <td>3.0</td>\n",
              "      <td>5.0</td>\n",
              "      <td>1.0</td>\n",
              "      <td>5.0</td>\n",
              "      <td>1.0</td>\n",
              "      <td>3.0</td>\n",
              "      <td>1.0</td>\n",
              "      <td>5.0</td>\n",
              "      <td>1.0</td>\n",
              "      <td>5.0</td>\n",
              "      <td>5.0</td>\n",
              "      <td>5.0</td>\n",
              "      <td>1.0</td>\n",
              "      <td>5.0</td>\n",
              "      <td>1.0</td>\n",
              "      <td>5.0</td>\n",
              "      <td>1.0</td>\n",
              "      <td>5.0</td>\n",
              "      <td>3.0</td>\n",
              "      <td>5.0</td>\n",
              "      <td>5.0</td>\n",
              "      <td>KE</td>\n",
              "    </tr>\n",
              "  </tbody>\n",
              "</table>\n",
              "</div>\n",
              "      <button class=\"colab-df-convert\" onclick=\"convertToInteractive('df-6e179df6-51fa-4570-8b79-683794f3391e')\"\n",
              "              title=\"Convert this dataframe to an interactive table.\"\n",
              "              style=\"display:none;\">\n",
              "        \n",
              "  <svg xmlns=\"http://www.w3.org/2000/svg\" height=\"24px\"viewBox=\"0 0 24 24\"\n",
              "       width=\"24px\">\n",
              "    <path d=\"M0 0h24v24H0V0z\" fill=\"none\"/>\n",
              "    <path d=\"M18.56 5.44l.94 2.06.94-2.06 2.06-.94-2.06-.94-.94-2.06-.94 2.06-2.06.94zm-11 1L8.5 8.5l.94-2.06 2.06-.94-2.06-.94L8.5 2.5l-.94 2.06-2.06.94zm10 10l.94 2.06.94-2.06 2.06-.94-2.06-.94-.94-2.06-.94 2.06-2.06.94z\"/><path d=\"M17.41 7.96l-1.37-1.37c-.4-.4-.92-.59-1.43-.59-.52 0-1.04.2-1.43.59L10.3 9.45l-7.72 7.72c-.78.78-.78 2.05 0 2.83L4 21.41c.39.39.9.59 1.41.59.51 0 1.02-.2 1.41-.59l7.78-7.78 2.81-2.81c.8-.78.8-2.07 0-2.86zM5.41 20L4 18.59l7.72-7.72 1.47 1.35L5.41 20z\"/>\n",
              "  </svg>\n",
              "      </button>\n",
              "      \n",
              "  <style>\n",
              "    .colab-df-container {\n",
              "      display:flex;\n",
              "      flex-wrap:wrap;\n",
              "      gap: 12px;\n",
              "    }\n",
              "\n",
              "    .colab-df-convert {\n",
              "      background-color: #E8F0FE;\n",
              "      border: none;\n",
              "      border-radius: 50%;\n",
              "      cursor: pointer;\n",
              "      display: none;\n",
              "      fill: #1967D2;\n",
              "      height: 32px;\n",
              "      padding: 0 0 0 0;\n",
              "      width: 32px;\n",
              "    }\n",
              "\n",
              "    .colab-df-convert:hover {\n",
              "      background-color: #E2EBFA;\n",
              "      box-shadow: 0px 1px 2px rgba(60, 64, 67, 0.3), 0px 1px 3px 1px rgba(60, 64, 67, 0.15);\n",
              "      fill: #174EA6;\n",
              "    }\n",
              "\n",
              "    [theme=dark] .colab-df-convert {\n",
              "      background-color: #3B4455;\n",
              "      fill: #D2E3FC;\n",
              "    }\n",
              "\n",
              "    [theme=dark] .colab-df-convert:hover {\n",
              "      background-color: #434B5C;\n",
              "      box-shadow: 0px 1px 3px 1px rgba(0, 0, 0, 0.15);\n",
              "      filter: drop-shadow(0px 1px 2px rgba(0, 0, 0, 0.3));\n",
              "      fill: #FFFFFF;\n",
              "    }\n",
              "  </style>\n",
              "\n",
              "      <script>\n",
              "        const buttonEl =\n",
              "          document.querySelector('#df-6e179df6-51fa-4570-8b79-683794f3391e button.colab-df-convert');\n",
              "        buttonEl.style.display =\n",
              "          google.colab.kernel.accessAllowed ? 'block' : 'none';\n",
              "\n",
              "        async function convertToInteractive(key) {\n",
              "          const element = document.querySelector('#df-6e179df6-51fa-4570-8b79-683794f3391e');\n",
              "          const dataTable =\n",
              "            await google.colab.kernel.invokeFunction('convertToInteractive',\n",
              "                                                     [key], {});\n",
              "          if (!dataTable) return;\n",
              "\n",
              "          const docLinkHtml = 'Like what you see? Visit the ' +\n",
              "            '<a target=\"_blank\" href=https://colab.research.google.com/notebooks/data_table.ipynb>data table notebook</a>'\n",
              "            + ' to learn more about interactive tables.';\n",
              "          element.innerHTML = '';\n",
              "          dataTable['output_type'] = 'display_data';\n",
              "          await google.colab.output.renderOutput(dataTable, element);\n",
              "          const docLink = document.createElement('div');\n",
              "          docLink.innerHTML = docLinkHtml;\n",
              "          element.appendChild(docLink);\n",
              "        }\n",
              "      </script>\n",
              "    </div>\n",
              "  </div>\n",
              "  "
            ],
            "text/plain": [
              "   EXT1  EXT2  EXT3  EXT4  EXT5  EXT6  EXT7  EXT8  EXT9  EXT10  EST1  EST2  \\\n",
              "0   4.0   1.0   5.0   2.0   5.0   1.0   5.0   2.0   4.0    1.0   1.0   4.0   \n",
              "1   3.0   5.0   3.0   4.0   3.0   3.0   2.0   5.0   1.0    5.0   2.0   3.0   \n",
              "2   2.0   3.0   4.0   4.0   3.0   2.0   1.0   3.0   2.0    5.0   4.0   4.0   \n",
              "3   2.0   2.0   2.0   3.0   4.0   2.0   2.0   4.0   1.0    4.0   3.0   3.0   \n",
              "4   3.0   3.0   3.0   3.0   5.0   3.0   3.0   5.0   3.0    4.0   1.0   5.0   \n",
              "\n",
              "   EST3  EST4  EST5  EST6  EST7  EST8  EST9  EST10  AGR1  AGR2  AGR3  AGR4  \\\n",
              "0   4.0   2.0   2.0   2.0   2.0   2.0   3.0    2.0   2.0   5.0   2.0   4.0   \n",
              "1   4.0   1.0   3.0   1.0   2.0   1.0   3.0    1.0   1.0   4.0   1.0   5.0   \n",
              "2   4.0   2.0   2.0   2.0   2.0   2.0   1.0    3.0   1.0   4.0   1.0   4.0   \n",
              "3   3.0   2.0   3.0   2.0   2.0   2.0   4.0    3.0   2.0   4.0   3.0   4.0   \n",
              "4   5.0   3.0   1.0   1.0   1.0   1.0   3.0    2.0   1.0   5.0   1.0   5.0   \n",
              "\n",
              "   AGR5  AGR6  AGR7  AGR8  AGR9  AGR10  CSN1  CSN2  CSN3  CSN4  CSN5  CSN6  \\\n",
              "0   2.0   3.0   2.0   4.0   3.0    4.0   3.0   4.0   3.0   2.0   2.0   4.0   \n",
              "1   1.0   5.0   3.0   4.0   5.0    3.0   3.0   2.0   5.0   3.0   3.0   1.0   \n",
              "2   2.0   4.0   1.0   4.0   4.0    3.0   4.0   2.0   2.0   2.0   3.0   3.0   \n",
              "3   2.0   4.0   2.0   4.0   3.0    4.0   2.0   4.0   4.0   4.0   1.0   2.0   \n",
              "4   1.0   3.0   1.0   5.0   5.0    3.0   5.0   1.0   5.0   1.0   3.0   1.0   \n",
              "\n",
              "   CSN7  CSN8  CSN9  CSN10  OPN1  OPN2  OPN3  OPN4  OPN5  OPN6  OPN7  OPN8  \\\n",
              "0   4.0   2.0   4.0    4.0   5.0   1.0   4.0   1.0   4.0   1.0   5.0   3.0   \n",
              "1   3.0   3.0   5.0    3.0   1.0   2.0   4.0   2.0   3.0   1.0   4.0   2.0   \n",
              "2   4.0   2.0   4.0    2.0   5.0   1.0   2.0   1.0   4.0   2.0   5.0   3.0   \n",
              "3   2.0   3.0   1.0    4.0   4.0   2.0   5.0   2.0   3.0   1.0   4.0   4.0   \n",
              "4   5.0   1.0   5.0    5.0   5.0   1.0   5.0   1.0   5.0   1.0   5.0   3.0   \n",
              "\n",
              "   OPN9  OPN10 country  \n",
              "0   4.0    5.0      GB  \n",
              "1   5.0    3.0      MY  \n",
              "2   4.0    4.0      GB  \n",
              "3   3.0    3.0      GB  \n",
              "4   5.0    5.0      KE  "
            ]
          },
          "metadata": {},
          "execution_count": 3
        }
      ],
      "source": [
        "dat = pd.read_csv('/content/drive/MyDrive/Data/data-final.csv', sep='\\t')\n",
        "data = dat.copy()\n",
        "pd.options.display.max_columns = 100\n",
        "data.drop(data.columns[50:107], axis=1, inplace=True)\n",
        "data.drop(data.columns[51:], axis=1, inplace=True)\n",
        "print('Number of participants: ', len(data))\n",
        "data.head()"
      ]
    },
    {
      "cell_type": "code",
      "source": [
        "data = data.dropna()"
      ],
      "metadata": {
        "id": "VLpuFOFjzZTr"
      },
      "execution_count": 4,
      "outputs": []
    },
    {
      "cell_type": "code",
      "source": [
        "data.isna().sum()"
      ],
      "metadata": {
        "id": "F3Oakw6WzaSr",
        "colab": {
          "base_uri": "https://localhost:8080/"
        },
        "outputId": "b82b3b23-f5e6-417f-f2ba-24ba2cd1a8b0"
      },
      "execution_count": 5,
      "outputs": [
        {
          "output_type": "execute_result",
          "data": {
            "text/plain": [
              "EXT1       0\n",
              "EXT2       0\n",
              "EXT3       0\n",
              "EXT4       0\n",
              "EXT5       0\n",
              "EXT6       0\n",
              "EXT7       0\n",
              "EXT8       0\n",
              "EXT9       0\n",
              "EXT10      0\n",
              "EST1       0\n",
              "EST2       0\n",
              "EST3       0\n",
              "EST4       0\n",
              "EST5       0\n",
              "EST6       0\n",
              "EST7       0\n",
              "EST8       0\n",
              "EST9       0\n",
              "EST10      0\n",
              "AGR1       0\n",
              "AGR2       0\n",
              "AGR3       0\n",
              "AGR4       0\n",
              "AGR5       0\n",
              "AGR6       0\n",
              "AGR7       0\n",
              "AGR8       0\n",
              "AGR9       0\n",
              "AGR10      0\n",
              "CSN1       0\n",
              "CSN2       0\n",
              "CSN3       0\n",
              "CSN4       0\n",
              "CSN5       0\n",
              "CSN6       0\n",
              "CSN7       0\n",
              "CSN8       0\n",
              "CSN9       0\n",
              "CSN10      0\n",
              "OPN1       0\n",
              "OPN2       0\n",
              "OPN3       0\n",
              "OPN4       0\n",
              "OPN5       0\n",
              "OPN6       0\n",
              "OPN7       0\n",
              "OPN8       0\n",
              "OPN9       0\n",
              "OPN10      0\n",
              "country    0\n",
              "dtype: int64"
            ]
          },
          "metadata": {},
          "execution_count": 5
        }
      ]
    },
    {
      "cell_type": "code",
      "source": [
        "data = data.drop_duplicates()"
      ],
      "metadata": {
        "id": "6URk9y650-X5"
      },
      "execution_count": 6,
      "outputs": []
    },
    {
      "cell_type": "code",
      "source": [
        "countries = pd.DataFrame(data['country'].value_counts())\n",
        "countries_5k = countries[countries['country'] >= 5000]\n",
        "plt.figure(figsize=(15,5))\n",
        "sns.barplot(data=countries_5k, x=countries_5k.index, y='country')\n",
        "plt.title('Countries With More Than 5000 Participants')\n",
        "plt.ylabel('Participants');"
      ],
      "metadata": {
        "id": "2ITlaGou1VUG",
        "colab": {
          "base_uri": "https://localhost:8080/",
          "height": 336
        },
        "outputId": "4ef395c5-92e1-4f6c-a197-4a30c500ccfa"
      },
      "execution_count": 7,
      "outputs": [
        {
          "output_type": "display_data",
          "data": {
            "image/png": "[encoded data removed]",
            "text/plain": [
              "<Figure size 1080x360 with 1 Axes>"
            ]
          },
          "metadata": {
            "needs_background": "light"
          }
        }
      ]
    },
    {
      "cell_type": "code",
      "source": [
        "df = data.drop('country', axis=1)"
      ],
      "metadata": {
        "id": "CALfN_uUF9cC"
      },
      "execution_count": 8,
      "outputs": []
    },
    {
      "cell_type": "code",
      "source": [
        "df.dtypes"
      ],
      "metadata": {
        "id": "gxFI86bm5rkq",
        "colab": {
          "base_uri": "https://localhost:8080/"
        },
        "outputId": "581c4e66-323f-46cb-e769-978787a1a39d"
      },
      "execution_count": 9,
      "outputs": [
        {
          "output_type": "execute_result",
          "data": {
            "text/plain": [
              "EXT1     float64\n",
              "EXT2     float64\n",
              "EXT3     float64\n",
              "EXT4     float64\n",
              "EXT5     float64\n",
              "EXT6     float64\n",
              "EXT7     float64\n",
              "EXT8     float64\n",
              "EXT9     float64\n",
              "EXT10    float64\n",
              "EST1     float64\n",
              "EST2     float64\n",
              "EST3     float64\n",
              "EST4     float64\n",
              "EST5     float64\n",
              "EST6     float64\n",
              "EST7     float64\n",
              "EST8     float64\n",
              "EST9     float64\n",
              "EST10    float64\n",
              "AGR1     float64\n",
              "AGR2     float64\n",
              "AGR3     float64\n",
              "AGR4     float64\n",
              "AGR5     float64\n",
              "AGR6     float64\n",
              "AGR7     float64\n",
              "AGR8     float64\n",
              "AGR9     float64\n",
              "AGR10    float64\n",
              "CSN1     float64\n",
              "CSN2     float64\n",
              "CSN3     float64\n",
              "CSN4     float64\n",
              "CSN5     float64\n",
              "CSN6     float64\n",
              "CSN7     float64\n",
              "CSN8     float64\n",
              "CSN9     float64\n",
              "CSN10    float64\n",
              "OPN1     float64\n",
              "OPN2     float64\n",
              "OPN3     float64\n",
              "OPN4     float64\n",
              "OPN5     float64\n",
              "OPN6     float64\n",
              "OPN7     float64\n",
              "OPN8     float64\n",
              "OPN9     float64\n",
              "OPN10    float64\n",
              "dtype: object"
            ]
          },
          "metadata": {},
          "execution_count": 9
        }
      ]
    },
    {
      "cell_type": "code",
      "source": [
        "from sklearn.preprocessing import StandardScaler\n",
        "from sklearn.decomposition import PCA\n",
        "\n",
        "scaler =  StandardScaler()\n",
        "scaler.fit(df)\n",
        "X_scaled = scaler.transform(df)"
      ],
      "metadata": {
        "id": "zPZTojWJ93p3"
      },
      "execution_count": 10,
      "outputs": []
    },
    {
      "cell_type": "code",
      "source": [
        "pca_s = PCA(n_components = 5)\n",
        "data_embed = pca_s.fit_transform(X_scaled)"
      ],
      "metadata": {
        "id": "cz3tJX0J94Qd"
      },
      "execution_count": 11,
      "outputs": []
    },
    {
      "cell_type": "markdown",
      "source": [
        "Using SKLearn"
      ],
      "metadata": {
        "id": "TSuYl3Bl8dkF"
      }
    },
    {
      "cell_type": "code",
      "source": [
        "from sklearn.preprocessing import MinMaxScaler\n",
        "\n",
        "df = data.drop('country', axis=1)\n",
        "columns = list(df.columns)\n",
        "\n",
        "scaler = MinMaxScaler(feature_range=(0,1))\n",
        "df = scaler.fit_transform(df)\n",
        "df = pd.DataFrame(df, columns=columns)\n",
        "df_s = df[:5000]"
      ],
      "metadata": {
        "id": "4s8eGG0f4IX0"
      },
      "execution_count": 12,
      "outputs": []
    },
    {
      "cell_type": "code",
      "source": [
        "from sklearn.cluster import KMeans\n",
        "from yellowbrick.cluster import KElbowVisualizer\n",
        "\n",
        "kms = KMeans()\n",
        "visualizer = KElbowVisualizer(kms, k=(2,15))\n",
        "visualizer.fit(df_s)\n",
        "visualizer.poof()"
      ],
      "metadata": {
        "id": "REWnNTCe8jyX",
        "colab": {
          "base_uri": "https://localhost:8080/",
          "height": 395
        },
        "outputId": "5adad6a3-af7a-43d2-a50c-ad97b0015cbe"
      },
      "execution_count": 13,
      "outputs": [
        {
          "output_type": "display_data",
          "data": {
            "image/png": "[encoded data removed]",
            "text/plain": [
              "<Figure size 576x396 with 2 Axes>"
            ]
          },
          "metadata": {}
        },
        {
          "output_type": "execute_result",
          "data": {
            "text/plain": [
              "<matplotlib.axes._subplots.AxesSubplot at 0x7fd87f65e7d0>"
            ]
          },
          "metadata": {},
          "execution_count": 13
        }
      ]
    },
    {
      "cell_type": "code",
      "source": [
        "kms = KMeans(n_clusters=3).fit(df)\n",
        "kms.labels_"
      ],
      "metadata": {
        "id": "Pm-iYmYW8sen",
        "colab": {
          "base_uri": "https://localhost:8080/"
        },
        "outputId": "005933a0-310f-464e-9faa-a371f6552955"
      },
      "execution_count": 14,
      "outputs": [
        {
          "output_type": "execute_result",
          "data": {
            "text/plain": [
              "array([0, 1, 0, ..., 2, 1, 2], dtype=int32)"
            ]
          },
          "metadata": {},
          "execution_count": 14
        }
      ]
    },
    {
      "cell_type": "code",
      "source": [
        "y_kmeans = kms.fit_predict(df)"
      ],
      "metadata": {
        "id": "MjVH9qC19Z_i"
      },
      "execution_count": 15,
      "outputs": []
    },
    {
      "cell_type": "code",
      "source": [
        "plt.scatter(data_embed[:, 0], data_embed[:, 1], c=y_kmeans, s=50, cmap='viridis')"
      ],
      "metadata": {
        "id": "5Vg7T35u9kZ4",
        "colab": {
          "base_uri": "https://localhost:8080/",
          "height": 366
        },
        "outputId": "873f645c-5cf8-4e39-d8b4-4239b6918f95"
      },
      "execution_count": 16,
      "outputs": [
        {
          "output_type": "execute_result",
          "data": {
            "text/plain": [
              "<matplotlib.collections.PathCollection at 0x7fd87f458b90>"
            ]
          },
          "metadata": {},
          "execution_count": 16
        },
        {
          "output_type": "display_data",
          "data": {
            "image/png": "[encoded data removed]",
            "text/plain": [
              "<Figure size 576x396 with 1 Axes>"
            ]
          },
          "metadata": {}
        }
      ]
    },
    {
      "cell_type": "markdown",
      "source": [
        "Using PyTorch"
      ],
      "metadata": {
        "id": "cb0n9CvH9le-"
      }
    },
    {
      "cell_type": "code",
      "source": [
        "data_size, dims, num_clusters = 10000, 2, 3\n",
        "x = torch.from_numpy(df.to_numpy()) "
      ],
      "metadata": {
        "id": "joLtnLGpbs_h"
      },
      "execution_count": 17,
      "outputs": []
    },
    {
      "cell_type": "code",
      "execution_count": 18,
      "metadata": {
        "id": "4uQs-3jjM4mg",
        "colab": {
          "base_uri": "https://localhost:8080/"
        },
        "outputId": "be4e9ad2-a89e-48ab-a0ff-9490154d4686"
      },
      "outputs": [
        {
          "output_type": "stream",
          "name": "stdout",
          "text": [
            "running k-means on cuda..\n"
          ]
        },
        {
          "output_type": "stream",
          "name": "stderr",
          "text": [
            "[running kmeans]: 40it [00:47,  1.20s/it, center_shift=0.000095, iteration=40, tol=0.000100]\n"
          ]
        }
      ],
      "source": [
        "cluster_ids_x, cluster_centers = kmeans(X=x,num_clusters=num_clusters,distance='euclidean',\n",
        "device=torch.device(\"cuda\" if torch.cuda.is_available() else \"cpu\"))"
      ]
    },
    {
      "cell_type": "code",
      "source": [
        "cluster_ids_x"
      ],
      "metadata": {
        "id": "WV9EQJkYr_q1",
        "colab": {
          "base_uri": "https://localhost:8080/"
        },
        "outputId": "39068c28-9f1d-483a-8dd1-4e103b280c4d"
      },
      "execution_count": 19,
      "outputs": [
        {
          "output_type": "execute_result",
          "data": {
            "text/plain": [
              "tensor([2, 0, 0,  ..., 2, 0, 2])"
            ]
          },
          "metadata": {},
          "execution_count": 19
        }
      ]
    },
    {
      "cell_type": "code",
      "source": [
        "num_clusters"
      ],
      "metadata": {
        "id": "U7D3daSWsDe7",
        "colab": {
          "base_uri": "https://localhost:8080/"
        },
        "outputId": "2b6324e2-608d-4ddd-8cf7-0efeebdf4379"
      },
      "execution_count": 20,
      "outputs": [
        {
          "output_type": "execute_result",
          "data": {
            "text/plain": [
              "3"
            ]
          },
          "metadata": {},
          "execution_count": 20
        }
      ]
    },
    {
      "cell_type": "code",
      "execution_count": 21,
      "metadata": {
        "id": "rmMsH0dYbzWU",
        "colab": {
          "base_uri": "https://localhost:8080/"
        },
        "outputId": "7ca387f4-bbb1-4d8d-fe5b-84f93c2e24a6"
      },
      "outputs": [
        {
          "output_type": "execute_result",
          "data": {
            "text/plain": [
              "tensor([[0.4060, 0.7054, 0.5756, 0.7350, 0.5224, 0.5820, 0.4039, 0.7773, 0.4793,\n",
              "         0.8159, 0.5405, 0.7074, 0.6862, 0.5794, 0.4856, 0.4329, 0.4702, 0.3874,\n",
              "         0.5180, 0.4684, 0.5112, 0.6654, 0.4244, 0.6964, 0.5424, 0.6606, 0.5312,\n",
              "         0.6693, 0.6549, 0.6578, 0.7026, 0.5038, 0.7997, 0.4335, 0.5603, 0.4796,\n",
              "         0.7561, 0.4518, 0.6552, 0.7250, 0.7140, 0.4089, 0.7435, 0.4153, 0.7353,\n",
              "         0.4104, 0.7983, 0.6082, 0.7950, 0.7443],\n",
              "        [0.4547, 0.6207, 0.5384, 0.7267, 0.5681, 0.5477, 0.4539, 0.7442, 0.5237,\n",
              "         0.8245, 0.8406, 0.5070, 0.8965, 0.4382, 0.7057, 0.7652, 0.7998, 0.7488,\n",
              "         0.7908, 0.7523, 0.4666, 0.7342, 0.5125, 0.7986, 0.4665, 0.7891, 0.4811,\n",
              "         0.7237, 0.7760, 0.6666, 0.5881, 0.6653, 0.7753, 0.6660, 0.4487, 0.6786,\n",
              "         0.7199, 0.5832, 0.5878, 0.6825, 0.7143, 0.4623, 0.8245, 0.4178, 0.7203,\n",
              "         0.3967, 0.7531, 0.6451, 0.8554, 0.7736],\n",
              "        [0.7021, 0.3744, 0.8415, 0.4522, 0.8486, 0.3366, 0.7730, 0.5535, 0.7523,\n",
              "         0.5238, 0.5768, 0.6991, 0.7177, 0.5894, 0.5054, 0.4886, 0.5416, 0.4533,\n",
              "         0.5334, 0.4356, 0.3902, 0.8819, 0.4174, 0.8487, 0.3742, 0.7841, 0.3276,\n",
              "         0.8104, 0.8267, 0.8210, 0.6981, 0.5783, 0.8156, 0.4604, 0.5733, 0.5300,\n",
              "         0.7503, 0.4411, 0.6822, 0.7514, 0.7650, 0.3762, 0.8266, 0.3719, 0.8189,\n",
              "         0.3379, 0.8388, 0.6543, 0.8240, 0.8519]])"
            ]
          },
          "metadata": {},
          "execution_count": 21
        }
      ],
      "source": [
        "cluster_centers"
      ]
    },
    {
      "cell_type": "code",
      "execution_count": 22,
      "metadata": {
        "id": "8DGu1A9ZcLCY"
      },
      "outputs": [],
      "source": [
        "clus_data = df\n",
        "clus_data['clusters'] = cluster_ids_x"
      ]
    },
    {
      "cell_type": "code",
      "source": [
        "plt.scatter(data_embed[:, 0], data_embed[:, 1], c=cluster_ids_x, s=50, cmap='viridis')"
      ],
      "metadata": {
        "id": "1Hv9P7mmsE-P",
        "colab": {
          "base_uri": "https://localhost:8080/",
          "height": 366
        },
        "outputId": "28f9a7a7-b8ad-4f86-e150-d1917cae4c75"
      },
      "execution_count": 23,
      "outputs": [
        {
          "output_type": "execute_result",
          "data": {
            "text/plain": [
              "<matplotlib.collections.PathCollection at 0x7fd88c917510>"
            ]
          },
          "metadata": {},
          "execution_count": 23
        },
        {
          "output_type": "display_data",
          "data": {
            "image/png": "[encoded data removed]",
            "text/plain": [
              "<Figure size 576x396 with 1 Axes>"
            ]
          },
          "metadata": {}
        }
      ]
    },
    {
      "cell_type": "markdown",
      "source": [
        "**AGGLOMERATIVE**"
      ],
      "metadata": {
        "id": "-5hv3Mvq-k_O"
      }
    },
    {
      "cell_type": "code",
      "source": [
        "import numpy as np\n",
        "import pandas as pd\n",
        "import sklearn\n",
        "import matplotlib.pyplot as plt\n",
        "import scipy.cluster.hierarchy as sch\n",
        "from sklearn.cluster import AgglomerativeClustering"
      ],
      "metadata": {
        "id": "DTXtc8ZP-q8h"
      },
      "execution_count": 24,
      "outputs": []
    },
    {
      "cell_type": "code",
      "source": [
        "df = df.head(100000)"
      ],
      "metadata": {
        "id": "k8W49uafStIq"
      },
      "execution_count": 25,
      "outputs": []
    },
    {
      "cell_type": "code",
      "source": [
        "x = torch.from_numpy(df.to_numpy()) "
      ],
      "metadata": {
        "id": "bFICpMCmSaLf"
      },
      "execution_count": 26,
      "outputs": []
    },
    {
      "cell_type": "code",
      "source": [
        "plt.scatter(x[:,0],x[:,1])"
      ],
      "metadata": {
        "id": "omf99SSe_D_b",
        "colab": {
          "base_uri": "https://localhost:8080/",
          "height": 366
        },
        "outputId": "79f2f00b-f2cf-4f6b-8e53-7a033938fb98"
      },
      "execution_count": 27,
      "outputs": [
        {
          "output_type": "execute_result",
          "data": {
            "text/plain": [
              "<matplotlib.collections.PathCollection at 0x7fd87f466210>"
            ]
          },
          "metadata": {},
          "execution_count": 27
        },
        {
          "output_type": "display_data",
          "data": {
            "image/png": "[encoded data removed]",
            "text/plain": [
              "<Figure size 576x396 with 1 Axes>"
            ]
          },
          "metadata": {}
        }
      ]
    },
    {
      "cell_type": "code",
      "source": [
        "hcs = AgglomerativeClustering(linkage='single',n_clusters=3).fit(x)\n",
        "hcs.labels_"
      ],
      "metadata": {
        "id": "SFS3HsdI_wVj",
        "colab": {
          "base_uri": "https://localhost:8080/"
        },
        "outputId": "56a63855-c4f3-4cfe-93c2-64abc33f949f"
      },
      "execution_count": 28,
      "outputs": [
        {
          "output_type": "execute_result",
          "data": {
            "text/plain": [
              "array([0, 0, 0, ..., 0, 0, 0])"
            ]
          },
          "metadata": {},
          "execution_count": 28
        }
      ]
    },
    {
      "cell_type": "code",
      "source": [
        "y_hcs = hcs.fit_predict(x)"
      ],
      "metadata": {
        "id": "JUARK7yq_zGN"
      },
      "execution_count": 29,
      "outputs": []
    },
    {
      "cell_type": "code",
      "source": [
        "plt.scatter(x[y_hcs ==0,0],x[y_hcs==0,1],s=100,c='green', cmap='viridis')\n",
        "plt.scatter(x[y_hcs ==1,0],x[y_hcs==1,1],s=100,c='blue',cmap='viridis')\n",
        "plt.scatter(x[y_hcs ==2,0],x[y_hcs==2,1],s=100,c='yellow', cmap='viridis')\n",
        "plt.scatter(x[y_hcs ==3,0],x[y_hcs==3,1],s=100,c='red', cmap='viridis')"
      ],
      "metadata": {
        "id": "mQ0-BAqk_5f9",
        "colab": {
          "base_uri": "https://localhost:8080/",
          "height": 366
        },
        "outputId": "fc950cad-9ece-4efa-d5e2-ebe1e44b857f"
      },
      "execution_count": 30,
      "outputs": [
        {
          "output_type": "execute_result",
          "data": {
            "text/plain": [
              "<matplotlib.collections.PathCollection at 0x7fd87bb9e950>"
            ]
          },
          "metadata": {},
          "execution_count": 30
        },
        {
          "output_type": "display_data",
          "data": {
            "image/png": "[encoded data removed]",
            "text/plain": [
              "<Figure size 576x396 with 1 Axes>"
            ]
          },
          "metadata": {}
        }
      ]
    },
    {
      "cell_type": "markdown",
      "source": [
        "**REFERENCES**\n",
        "\n",
        "https://www.kaggle.com/akdagmelih/five-personality-clusters-k-means\n",
        "\n",
        "https://scikit-learn.org/stable/modules/generated/sklearn.cluster.AgglomerativeClustering.html\n",
        "\n",
        "https://www.kernel-operations.io/keops/_auto_tutorials/kmeans/plot_kmeans_torch.html\n",
        "\n",
        "https://towardsdatascience.com/breaking-down-the-agglomerative-clustering-process-1c367f74c7c2\n",
        "\n",
        "https://www.datanovia.com/en/lessons/agglomerative-hierarchical-clustering/"
      ],
      "metadata": {
        "id": "77dc4_TMAl8O"
      }
    }
  ],
  "metadata": {
    "colab": {
      "name": "Kmeans_Pytorch.ipynb",
      "provenance": [],
      "collapsed_sections": [],
      "mount_file_id": "1BIJPx-u3u5fDVtdc_Qy2ic3im1uqlHZP",
      "authorship_tag": "ABX9TyOkf6AcluSNX6MXXklBJ//R",
      "include_colab_link": true
    },
    "kernelspec": {
      "display_name": "Python 3",
      "name": "python3"
    },
    "language_info": {
      "name": "python"
    },
    "accelerator": "GPU"
  },
  "nbformat": 4,
  "nbformat_minor": 0
}